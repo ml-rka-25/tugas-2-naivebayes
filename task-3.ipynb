{
  "cells": [
    {
      "cell_type": "markdown",
      "metadata": {
        "id": "5TvxkjbpWAgY"
      },
      "source": [
        "  # 📌 Klasifikasi Pendapatan dengan Naive Bayes\n",
        "  Pada tugas ini, kita akan menggunakan Adult Census Income Dataset. Dataset bisa diakses melalui link berikut:\\\n",
        "  🔗 https://www.kaggle.com/datasets/uciml/adult-census-income/data\n",
        "\n",
        "  Tujuan utama dari tugas ini adalah membangun model Naive Bayes untuk memprediksi apakah pendapatan seseorang lebih dari $50K per tahun berdasarkan fitur demografis dan pekerjaan.\n",
        "\n",
        "  Langkah-langkah yang harus dilakukan antara lain:\n",
        "  1. Persiapan Dataset & Eksplorasi Awal\n",
        "  - Memuat dataset, melihat struktur data, tipe fitur (numerik atau kategorikal), dan distribusi label.\n",
        "\n",
        "  2. Preprocessing\n",
        "  - Memproses data agar siap untuk digunakan dalam model, termasuk menangani missing value, encoding fitur kategorikal, dan normalisasi/standardisasi jika diperlukan.\n",
        "\n",
        "  3. Eksperimen Model Naive Bayes\n",
        "  - Bangun model Naive Bayes dan latih menggunakan data training.\n",
        "  - Eksperimen dapat dilakukan dengan pemilihan fitur yang digunakan dalam melatih model untuk mengetahui pengaruh fitur terhadap performa model.\n",
        "\n",
        "  4. Evaluasi Model\n",
        "  - Hitung metrik evaluasi seperti Accuracy, Precision, Recall, F1-Score, serta visualisasikan Confusion Matrix untuk setiap kombinasi fitur yang diuji.\n",
        "\n",
        "  5. Analisis & Kesimpulan\n",
        "  - Membandingkan performa antar eksperimen fitur, menentukan kombinasi fitur terbaik, dan menarik kesimpulan mengenai pengaruh fitur terhadap kemampuan model dalam memprediksi pendapatan."
      ]
    },
    {
      "cell_type": "markdown",
      "metadata": {
        "id": "k8MVopOsaCvd"
      },
      "source": [
        "# 1. Import Library"
      ]
    },
    {
      "cell_type": "code",
      "execution_count": null,
      "metadata": {
        "id": "FazxZNNWr0-K"
      },
      "outputs": [],
      "source": []
    },
    {
      "cell_type": "markdown",
      "metadata": {
        "id": "1T3txwSWaH_O"
      },
      "source": [
        "# 2. Load Dataset\n",
        "\n",
        "\n"
      ]
    },
    {
      "cell_type": "code",
      "execution_count": null,
      "metadata": {
        "id": "ZWFzLmj0abkV"
      },
      "outputs": [],
      "source": []
    },
    {
      "cell_type": "markdown",
      "metadata": {
        "id": "BQnVcvoEaK5Q"
      },
      "source": [
        "# 3. Eksplorasi Data\n"
      ]
    },
    {
      "cell_type": "code",
      "execution_count": null,
      "metadata": {
        "id": "xMYlXK-Fab_A"
      },
      "outputs": [],
      "source": []
    },
    {
      "cell_type": "markdown",
      "metadata": {
        "id": "9ewnwcqeaT-n"
      },
      "source": [
        "# 4. Data Cleaning & Preprocessing"
      ]
    },
    {
      "cell_type": "code",
      "execution_count": null,
      "metadata": {
        "id": "j_bv2-gsacRF"
      },
      "outputs": [],
      "source": []
    },
    {
      "cell_type": "markdown",
      "metadata": {
        "id": "xhTU6GlLaTeb"
      },
      "source": [
        "# 5. Feature Engineering & Selection"
      ]
    },
    {
      "cell_type": "code",
      "execution_count": null,
      "metadata": {
        "id": "sPI1TkzUadvV"
      },
      "outputs": [],
      "source": []
    },
    {
      "cell_type": "markdown",
      "metadata": {
        "id": "KGDFo9swsFE_"
      },
      "source": [
        "# 6. Training"
      ]
    },
    {
      "cell_type": "code",
      "execution_count": null,
      "metadata": {
        "id": "GzftPV4jsJ5Z"
      },
      "outputs": [],
      "source": []
    },
    {
      "cell_type": "markdown",
      "metadata": {
        "id": "Z_RcJ2JWsKK-"
      },
      "source": [
        "# 7. Evaluation"
      ]
    },
    {
      "cell_type": "code",
      "execution_count": null,
      "metadata": {
        "id": "MeQO2F18sN7k"
      },
      "outputs": [],
      "source": []
    },
    {
      "cell_type": "markdown",
      "metadata": {
        "id": "wKKkfSNDsRZD"
      },
      "source": [
        "# 8. Kesimpulan"
      ]
    },
    {
      "cell_type": "markdown",
      "metadata": {
        "id": "dDm-5eq8sdsv"
      },
      "source": []
    }
  ],
  "metadata": {
    "colab": {
      "provenance": []
    },
    "kernelspec": {
      "display_name": "Python 3",
      "name": "python3"
    },
    "language_info": {
      "name": "python"
    }
  },
  "nbformat": 4,
  "nbformat_minor": 0
}
